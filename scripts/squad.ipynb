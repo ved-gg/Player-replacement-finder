{
 "cells": [
  {
   "cell_type": "code",
   "execution_count": 1,
   "metadata": {},
   "outputs": [],
   "source": [
    "import squad_data as scraper"
   ]
  },
  {
   "cell_type": "code",
   "execution_count": 2,
   "metadata": {},
   "outputs": [],
   "source": [
    "# scraper.available_stats()"
   ]
  },
  {
   "cell_type": "code",
   "execution_count": 3,
   "metadata": {},
   "outputs": [
    {
     "name": "stdout",
     "output_type": "stream",
     "text": [
      "Getting data from https://fbref.com/en/comps/Big5/passing/players/Big-5-European-Leagues-Stats/...\n",
      "Done. passing\n"
     ]
    },
    {
     "name": "stderr",
     "output_type": "stream",
     "text": [
      "/home/vedant/football-transfer-fees/scripts/squad_data.py:83: FutureWarning: errors='ignore' is deprecated and will raise in a future version. Use to_numeric without passing `errors` and catch exceptions explicitly instead\n",
      "  df = df.apply(pd.to_numeric, errors='ignore')\n"
     ]
    }
   ],
   "source": [
    "# shooting_df = scraper.get_player_stats('passing', 'Big5')"
   ]
  },
  {
   "cell_type": "code",
   "execution_count": 5,
   "metadata": {},
   "outputs": [
    {
     "name": "stdout",
     "output_type": "stream",
     "text": [
      "standard\n",
      "Getting data from https://fbref.com/en/comps/Big5/stats/players/Big-5-European-Leagues-Stats/...\n",
      "Done. standard\n"
     ]
    },
    {
     "name": "stderr",
     "output_type": "stream",
     "text": [
      "/home/vedant/football-transfer-fees/scripts/squad_data.py:83: FutureWarning: errors='ignore' is deprecated and will raise in a future version. Use to_numeric without passing `errors` and catch exceptions explicitly instead\n",
      "  df = df.apply(pd.to_numeric, errors='ignore')\n"
     ]
    },
    {
     "name": "stdout",
     "output_type": "stream",
     "text": [
      "keepers\n",
      "Getting data from https://fbref.com/en/comps/Big5/keepers/players/Big-5-European-Leagues-Stats/...\n",
      "Done. keepers\n"
     ]
    },
    {
     "name": "stderr",
     "output_type": "stream",
     "text": [
      "/home/vedant/football-transfer-fees/scripts/squad_data.py:83: FutureWarning: errors='ignore' is deprecated and will raise in a future version. Use to_numeric without passing `errors` and catch exceptions explicitly instead\n",
      "  df = df.apply(pd.to_numeric, errors='ignore')\n"
     ]
    },
    {
     "name": "stdout",
     "output_type": "stream",
     "text": [
      "keepersadv\n",
      "Getting data from https://fbref.com/en/comps/Big5/keepersadv/players/Big-5-European-Leagues-Stats/...\n",
      "Done. keepersadv\n"
     ]
    },
    {
     "name": "stderr",
     "output_type": "stream",
     "text": [
      "/home/vedant/football-transfer-fees/scripts/squad_data.py:83: FutureWarning: errors='ignore' is deprecated and will raise in a future version. Use to_numeric without passing `errors` and catch exceptions explicitly instead\n",
      "  df = df.apply(pd.to_numeric, errors='ignore')\n"
     ]
    },
    {
     "name": "stdout",
     "output_type": "stream",
     "text": [
      "shooting\n",
      "Getting data from https://fbref.com/en/comps/Big5/shooting/players/Big-5-European-Leagues-Stats/...\n",
      "Done. shooting\n"
     ]
    },
    {
     "name": "stderr",
     "output_type": "stream",
     "text": [
      "/home/vedant/football-transfer-fees/scripts/squad_data.py:83: FutureWarning: errors='ignore' is deprecated and will raise in a future version. Use to_numeric without passing `errors` and catch exceptions explicitly instead\n",
      "  df = df.apply(pd.to_numeric, errors='ignore')\n"
     ]
    },
    {
     "name": "stdout",
     "output_type": "stream",
     "text": [
      "passing\n",
      "Getting data from https://fbref.com/en/comps/Big5/passing/players/Big-5-European-Leagues-Stats/...\n",
      "Done. passing\n"
     ]
    },
    {
     "name": "stderr",
     "output_type": "stream",
     "text": [
      "/home/vedant/football-transfer-fees/scripts/squad_data.py:83: FutureWarning: errors='ignore' is deprecated and will raise in a future version. Use to_numeric without passing `errors` and catch exceptions explicitly instead\n",
      "  df = df.apply(pd.to_numeric, errors='ignore')\n"
     ]
    },
    {
     "name": "stdout",
     "output_type": "stream",
     "text": [
      "passing_types\n",
      "Getting data from https://fbref.com/en/comps/Big5/passing_types/players/Big-5-European-Leagues-Stats/...\n",
      "Done. passing_types\n"
     ]
    },
    {
     "name": "stderr",
     "output_type": "stream",
     "text": [
      "/home/vedant/football-transfer-fees/scripts/squad_data.py:83: FutureWarning: errors='ignore' is deprecated and will raise in a future version. Use to_numeric without passing `errors` and catch exceptions explicitly instead\n",
      "  df = df.apply(pd.to_numeric, errors='ignore')\n"
     ]
    },
    {
     "name": "stdout",
     "output_type": "stream",
     "text": [
      "gca\n",
      "Getting data from https://fbref.com/en/comps/Big5/gca/players/Big-5-European-Leagues-Stats/...\n",
      "Done. gca\n"
     ]
    },
    {
     "name": "stderr",
     "output_type": "stream",
     "text": [
      "/home/vedant/football-transfer-fees/scripts/squad_data.py:83: FutureWarning: errors='ignore' is deprecated and will raise in a future version. Use to_numeric without passing `errors` and catch exceptions explicitly instead\n",
      "  df = df.apply(pd.to_numeric, errors='ignore')\n"
     ]
    },
    {
     "name": "stdout",
     "output_type": "stream",
     "text": [
      "defense\n",
      "Getting data from https://fbref.com/en/comps/Big5/defense/players/Big-5-European-Leagues-Stats/...\n",
      "Done. defense\n"
     ]
    },
    {
     "name": "stderr",
     "output_type": "stream",
     "text": [
      "/home/vedant/football-transfer-fees/scripts/squad_data.py:83: FutureWarning: errors='ignore' is deprecated and will raise in a future version. Use to_numeric without passing `errors` and catch exceptions explicitly instead\n",
      "  df = df.apply(pd.to_numeric, errors='ignore')\n"
     ]
    },
    {
     "name": "stdout",
     "output_type": "stream",
     "text": [
      "possession\n",
      "Getting data from https://fbref.com/en/comps/Big5/possession/players/Big-5-European-Leagues-Stats/...\n",
      "Done. possession\n"
     ]
    },
    {
     "ename": "AttributeError",
     "evalue": "'NoneType' object has no attribute 'prettify'",
     "output_type": "error",
     "traceback": [
      "\u001b[31m---------------------------------------------------------------------------\u001b[39m",
      "\u001b[31mAttributeError\u001b[39m                            Traceback (most recent call last)",
      "\u001b[36mCell\u001b[39m\u001b[36m \u001b[39m\u001b[32mIn[5]\u001b[39m\u001b[32m, line 3\u001b[39m\n\u001b[32m      1\u001b[39m \u001b[38;5;28;01mfor\u001b[39;00m stat \u001b[38;5;129;01min\u001b[39;00m scraper.available_stats():\n\u001b[32m      2\u001b[39m     \u001b[38;5;28mprint\u001b[39m(stat)\n\u001b[32m----> \u001b[39m\u001b[32m3\u001b[39m     df = \u001b[43mscraper\u001b[49m\u001b[43m.\u001b[49m\u001b[43mget_player_stats\u001b[49m\u001b[43m(\u001b[49m\u001b[43mstat\u001b[49m\u001b[43m,\u001b[49m\u001b[43m \u001b[49m\u001b[33;43m'\u001b[39;49m\u001b[33;43mBig5\u001b[39;49m\u001b[33;43m'\u001b[39;49m\u001b[43m)\u001b[49m\n\u001b[32m      4\u001b[39m     df.to_csv(\u001b[33mf\u001b[39m\u001b[33m\"\u001b[39m\u001b[33m../data/season wise data/2024-2025/\u001b[39m\u001b[38;5;132;01m{\u001b[39;00mstat\u001b[38;5;132;01m}\u001b[39;00m\u001b[33m.csv\u001b[39m\u001b[33m\"\u001b[39m)\n",
      "\u001b[36mFile \u001b[39m\u001b[32m~/football-transfer-fees/scripts/squad_data.py:49\u001b[39m, in \u001b[36mget_player_stats\u001b[39m\u001b[34m(stat, compid)\u001b[39m\n\u001b[32m     46\u001b[39m \u001b[38;5;28;01mif\u001b[39;00m compid == \u001b[33m'\u001b[39m\u001b[33mBig5\u001b[39m\u001b[33m'\u001b[39m:\n\u001b[32m     47\u001b[39m     url += \u001b[33m'\u001b[39m\u001b[33mplayers/Big-5-European-Leagues-Stats/\u001b[39m\u001b[33m'\u001b[39m\n\u001b[32m---> \u001b[39m\u001b[32m49\u001b[39m df = \u001b[43mget_player_stats_from_URL\u001b[49m\u001b[43m(\u001b[49m\u001b[43murl\u001b[49m\u001b[43m,\u001b[49m\u001b[43m \u001b[49m\u001b[43mstat\u001b[49m\u001b[43m)\u001b[49m\n\u001b[32m     51\u001b[39m \u001b[38;5;28;01mreturn\u001b[39;00m df\n",
      "\u001b[36mFile \u001b[39m\u001b[32m~/football-transfer-fees/scripts/squad_data.py:29\u001b[39m, in \u001b[36mget_player_stats_from_URL\u001b[39m\u001b[34m(url, stat)\u001b[39m\n\u001b[32m     26\u001b[39m     \u001b[38;5;28;01mraise\u001b[39;00m \u001b[38;5;167;01mValueError\u001b[39;00m(\u001b[33mf\u001b[39m\u001b[33m'\u001b[39m\u001b[33mstat must be one of \u001b[39m\u001b[38;5;132;01m{\u001b[39;00mstats_list\u001b[38;5;132;01m}\u001b[39;00m\u001b[33m'\u001b[39m)\n\u001b[32m     28\u001b[39m table = _get_table_from_URL(url, stat)\n\u001b[32m---> \u001b[39m\u001b[32m29\u001b[39m df = _get_dataframe(\u001b[43mtable\u001b[49m\u001b[43m.\u001b[49m\u001b[43mprettify\u001b[49m())\n\u001b[32m     30\u001b[39m \u001b[38;5;28;01mreturn\u001b[39;00m df\n",
      "\u001b[31mAttributeError\u001b[39m: 'NoneType' object has no attribute 'prettify'"
     ]
    }
   ],
   "source": [
    "for stat in scraper.available_stats():\n",
    "    print(stat)\n",
    "    df = scraper.get_player_stats(stat, 'Big5')\n",
    "    df.to_csv(f\"../data/season wise data/2024-2025/{stat}.csv\")"
   ]
  },
  {
   "cell_type": "code",
   "execution_count": 8,
   "metadata": {},
   "outputs": [
    {
     "name": "stdout",
     "output_type": "stream",
     "text": [
      "Getting data from https://fbref.com/en/comps/Big5/possession/players/Big-5-European-Leagues-Stats/...\n"
     ]
    },
    {
     "name": "stdout",
     "output_type": "stream",
     "text": [
      "Done. possession\n"
     ]
    },
    {
     "ename": "AttributeError",
     "evalue": "'NoneType' object has no attribute 'prettify'",
     "output_type": "error",
     "traceback": [
      "\u001b[31m---------------------------------------------------------------------------\u001b[39m",
      "\u001b[31mAttributeError\u001b[39m                            Traceback (most recent call last)",
      "\u001b[36mCell\u001b[39m\u001b[36m \u001b[39m\u001b[32mIn[8]\u001b[39m\u001b[32m, line 1\u001b[39m\n\u001b[32m----> \u001b[39m\u001b[32m1\u001b[39m \u001b[43mscraper\u001b[49m\u001b[43m.\u001b[49m\u001b[43mget_player_stats\u001b[49m\u001b[43m(\u001b[49m\u001b[33;43m\"\u001b[39;49m\u001b[33;43mpossession\u001b[39;49m\u001b[33;43m\"\u001b[39;49m\u001b[43m,\u001b[49m\u001b[43m \u001b[49m\u001b[33;43m\"\u001b[39;49m\u001b[33;43mBig5\u001b[39;49m\u001b[33;43m\"\u001b[39;49m\u001b[43m)\u001b[49m\n",
      "\u001b[36mFile \u001b[39m\u001b[32m~/football-transfer-fees/scripts/squad_data.py:49\u001b[39m, in \u001b[36mget_player_stats\u001b[39m\u001b[34m(stat, compid)\u001b[39m\n\u001b[32m     46\u001b[39m \u001b[38;5;28;01mif\u001b[39;00m compid == \u001b[33m'\u001b[39m\u001b[33mBig5\u001b[39m\u001b[33m'\u001b[39m:\n\u001b[32m     47\u001b[39m     url += \u001b[33m'\u001b[39m\u001b[33mplayers/Big-5-European-Leagues-Stats/\u001b[39m\u001b[33m'\u001b[39m\n\u001b[32m---> \u001b[39m\u001b[32m49\u001b[39m df = \u001b[43mget_player_stats_from_URL\u001b[49m\u001b[43m(\u001b[49m\u001b[43murl\u001b[49m\u001b[43m,\u001b[49m\u001b[43m \u001b[49m\u001b[43mstat\u001b[49m\u001b[43m)\u001b[49m\n\u001b[32m     51\u001b[39m \u001b[38;5;28;01mreturn\u001b[39;00m df\n",
      "\u001b[36mFile \u001b[39m\u001b[32m~/football-transfer-fees/scripts/squad_data.py:29\u001b[39m, in \u001b[36mget_player_stats_from_URL\u001b[39m\u001b[34m(url, stat)\u001b[39m\n\u001b[32m     26\u001b[39m     \u001b[38;5;28;01mraise\u001b[39;00m \u001b[38;5;167;01mValueError\u001b[39;00m(\u001b[33mf\u001b[39m\u001b[33m'\u001b[39m\u001b[33mstat must be one of \u001b[39m\u001b[38;5;132;01m{\u001b[39;00mstats_list\u001b[38;5;132;01m}\u001b[39;00m\u001b[33m'\u001b[39m)\n\u001b[32m     28\u001b[39m table = _get_table_from_URL(url, stat)\n\u001b[32m---> \u001b[39m\u001b[32m29\u001b[39m df = _get_dataframe(\u001b[43mtable\u001b[49m\u001b[43m.\u001b[49m\u001b[43mprettify\u001b[49m())\n\u001b[32m     30\u001b[39m \u001b[38;5;28;01mreturn\u001b[39;00m df\n",
      "\u001b[31mAttributeError\u001b[39m: 'NoneType' object has no attribute 'prettify'"
     ]
    }
   ],
   "source": [
    "scraper.get_player_stats(\"possession\", \"Big5\")"
   ]
  }
 ],
 "metadata": {
  "kernelspec": {
   "display_name": ".venv",
   "language": "python",
   "name": "python3"
  },
  "language_info": {
   "codemirror_mode": {
    "name": "ipython",
    "version": 3
   },
   "file_extension": ".py",
   "mimetype": "text/x-python",
   "name": "python",
   "nbconvert_exporter": "python",
   "pygments_lexer": "ipython3",
   "version": "3.13.2"
  }
 },
 "nbformat": 4,
 "nbformat_minor": 2
}
